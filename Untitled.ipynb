{
 "cells": [
  {
   "cell_type": "code",
   "execution_count": 13,
   "id": "e480e9e1-dd43-47c6-8bce-23c51789e350",
   "metadata": {},
   "outputs": [],
   "source": [
    "import re\n",
    "import csv"
   ]
  },
  {
   "cell_type": "code",
   "execution_count": 14,
   "id": "e3abab8f-7d29-4118-9b32-96ea2bc5cb8f",
   "metadata": {},
   "outputs": [],
   "source": [
    "with open('pubmed-cancer-set.txt', encoding=\"utf8\" ) as f:\n",
    "    my_text = f.read()"
   ]
  },
  {
   "cell_type": "code",
   "execution_count": 15,
   "id": "90af6460-9f77-4bc4-b2e5-376fd699c808",
   "metadata": {},
   "outputs": [
    {
     "data": {
      "text/plain": [
       "38322284"
      ]
     },
     "execution_count": 15,
     "metadata": {},
     "output_type": "execute_result"
    }
   ],
   "source": [
    "my_text = re.sub(r'\\n\\s{6}', ' ', my_text)\n",
    "len(my_text)"
   ]
  },
  {
   "cell_type": "code",
   "execution_count": 16,
   "id": "2b278183-e25a-4859-b13c-be5a69dc2a67",
   "metadata": {},
   "outputs": [],
   "source": [
    "zipcodes = re.findall(r' (\\d{5}) ', my_text)"
   ]
  },
  {
   "cell_type": "code",
   "execution_count": 17,
   "id": "51b85f49-6995-4c90-92f0-acbc198045af",
   "metadata": {},
   "outputs": [
    {
     "data": {
      "text/plain": [
       "2648"
      ]
     },
     "execution_count": 17,
     "metadata": {},
     "output_type": "execute_result"
    }
   ],
   "source": [
    "len(zipcodes)"
   ]
  },
  {
   "cell_type": "code",
   "execution_count": 18,
   "id": "00a0abc6-8f15-47b2-bab5-a8b89a2395c5",
   "metadata": {},
   "outputs": [],
   "source": [
    "unique_zipcodes = list(set(zipcodes))"
   ]
  },
  {
   "cell_type": "code",
   "execution_count": 19,
   "id": "d80b43d3-86b9-43b9-94a2-3d4cfe9d4bbc",
   "metadata": {},
   "outputs": [],
   "source": [
    "unique_zipcodes.sort()"
   ]
  },
  {
   "cell_type": "code",
   "execution_count": 20,
   "id": "3ed5c99e-5b34-4fc8-9394-d6550cf0e160",
   "metadata": {},
   "outputs": [
    {
     "data": {
      "text/plain": [
       "718"
      ]
     },
     "execution_count": 20,
     "metadata": {},
     "output_type": "execute_result"
    }
   ],
   "source": [
    "len(unique_zipcodes)"
   ]
  },
  {
   "cell_type": "code",
   "execution_count": 21,
   "id": "f8428246-db47-4e56-bf92-bfff7e82c224",
   "metadata": {},
   "outputs": [],
   "source": [
    "zip_coordinates = {}\n",
    "with open('zipcodes_coordinates.txt') as f:\n",
    "    csvr = csv.DictReader(f)\n",
    "    for row in csvr:\n",
    "        zip_coordinates[row['ZIP']] = [float(row['LAT']), \n",
    "                                       float(row['LNG'])]\n",
    "\n"
   ]
  },
  {
   "cell_type": "code",
   "execution_count": 22,
   "id": "60f6e341-537c-4d42-b94b-6b0ead8486b1",
   "metadata": {},
   "outputs": [],
   "source": [
    "zip_code = []\n",
    "zip_long = []\n",
    "zip_lat = []\n",
    "zip_count = []"
   ]
  },
  {
   "cell_type": "code",
   "execution_count": 23,
   "id": "003c5ec5-6527-4ba5-a44b-f881a4ddb7fb",
   "metadata": {},
   "outputs": [],
   "source": [
    "for z in unique_zipcodes:\n",
    "    # if we can find the coordinates\n",
    "    if z in zip_coordinates.keys():\n",
    "        zip_code.append(z)\n",
    "        zip_lat.append(zip_coordinates[z][0])\n",
    "        zip_long.append(zip_coordinates[z][1])\n",
    "        zip_count.append(zipcodes.count(z))\n",
    "\n"
   ]
  },
  {
   "cell_type": "code",
   "execution_count": 29,
   "id": "4eabd8a8-28ba-46a7-88a8-dc4dc5d17521",
   "metadata": {},
   "outputs": [
    {
     "data": {
      "image/png": "[encoded data removed]",
      "text/plain": [
       "<Figure size 1296x864 with 2 Axes>"
      ]
     },
     "metadata": {
      "needs_background": "light"
     },
     "output_type": "display_data"
    }
   ],
   "source": [
    "import matplotlib.pyplot as plt\n",
    "%matplotlib inline\n",
    "plt.scatter(zip_long, zip_lat, s = zip_count, c= zip_count)\n",
    "plt.colorbar()\n",
    "\n",
    "plt.xlim(-125,125)\n",
    "plt.ylim(-100, 100)\n",
    "ard = dict(arrowstyle=\"->\")\n",
    "plt.annotate('USA', xy = (-95.712891,37.09024), \n",
    "               xytext = (-85.25, 37.05), arrowprops = ard)\n",
    "plt.annotate('Brazil', xy = (-51.92528, -14.235004), \n",
    "             xytext = (-60.1381, -14.235004), arrowprops= ard)\n",
    "plt.annotate('UK', xy = (-3.435973, 55.378051), \n",
    "               xytext = (-10.435973, 55.378051), arrowprops= ard)\n",
    "plt.annotate('China', xy = (104.195397, 35.86166), \n",
    "               xytext = (110.195397, 35.86166), arrowprops= ard)\n",
    "plt.annotate('Australia', xy = ( 133.775136,-25.274398 ), \n",
    "               xytext = ( 140.775136,-25.274398), arrowprops= ard)\n",
    "plt.annotate('Norway', xy = (8.468946, 60.472024 ), \n",
    "               xytext = (15.468946, 60.472024), arrowprops= ard)\n",
    "params = plt.gcf()\n",
    "plSize = params.get_size_inches()\n",
    "params.set_size_inches( (plSize[0] * 3, plSize[1] * 3) )\n",
    "plt.show()"
   ]
  },
  {
   "cell_type": "code",
   "execution_count": 31,
   "id": "dca5cbb5-9719-478d-acfa-33fc64d0e1c4",
   "metadata": {},
   "outputs": [
    {
     "name": "stdout",
     "output_type": "stream",
     "text": [
      "Collecting pgeocodeNote: you may need to restart the kernel to use updated packages.\n",
      "  Downloading pgeocode-0.3.0-py3-none-any.whl (8.5 kB)\n",
      "Requirement already satisfied: requests in c:\\users\\alexs\\anaconda3\\lib\\site-packages (from pgeocode) (2.26.0)\n",
      "\n",
      "Requirement already satisfied: numpy in c:\\users\\alexs\\anaconda3\\lib\\site-packages (from pgeocode) (1.20.3)\n",
      "Requirement already satisfied: pandas in c:\\users\\alexs\\anaconda3\\lib\\site-packages (from pgeocode) (1.3.4)\n",
      "Requirement already satisfied: pytz>=2017.3 in c:\\users\\alexs\\anaconda3\\lib\\site-packages (from pandas->pgeocode) (2021.3)\n",
      "Requirement already satisfied: python-dateutil>=2.7.3 in c:\\users\\alexs\\anaconda3\\lib\\site-packages (from pandas->pgeocode) (2.8.2)\n",
      "Requirement already satisfied: six>=1.5 in c:\\users\\alexs\\anaconda3\\lib\\site-packages (from python-dateutil>=2.7.3->pandas->pgeocode) (1.16.0)\n",
      "Requirement already satisfied: urllib3<1.27,>=1.21.1 in c:\\users\\alexs\\anaconda3\\lib\\site-packages (from requests->pgeocode) (1.26.7)\n",
      "Requirement already satisfied: idna<4,>=2.5 in c:\\users\\alexs\\anaconda3\\lib\\site-packages (from requests->pgeocode) (3.2)\n",
      "Requirement already satisfied: charset-normalizer~=2.0.0 in c:\\users\\alexs\\anaconda3\\lib\\site-packages (from requests->pgeocode) (2.0.4)\n",
      "Requirement already satisfied: certifi>=2017.4.17 in c:\\users\\alexs\\anaconda3\\lib\\site-packages (from requests->pgeocode) (2021.10.8)\n",
      "Installing collected packages: pgeocode\n",
      "Successfully installed pgeocode-0.3.0\n"
     ]
    }
   ],
   "source": [
    "pip install pgeocode"
   ]
  },
  {
   "cell_type": "code",
   "execution_count": 32,
   "id": "f1aa3c2f-f2d3-4a68-96bf-0441e0e1ec3d",
   "metadata": {},
   "outputs": [],
   "source": [
    "import pgeocode"
   ]
  },
  {
   "cell_type": "code",
   "execution_count": null,
   "id": "28422dec-7961-4fce-90d0-e85673060c70",
   "metadata": {},
   "outputs": [],
   "source": []
  }
 ],
 "metadata": {
  "kernelspec": {
   "display_name": "Python 3 (ipykernel)",
   "language": "python",
   "name": "python3"
  },
  "language_info": {
   "codemirror_mode": {
    "name": "ipython",
    "version": 3
   },
   "file_extension": ".py",
   "mimetype": "text/x-python",
   "name": "python",
   "nbconvert_exporter": "python",
   "pygments_lexer": "ipython3",
   "version": "3.9.7"
  }
 },
 "nbformat": 4,
 "nbformat_minor": 5
}
